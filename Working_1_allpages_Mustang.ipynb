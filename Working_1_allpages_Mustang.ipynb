{
 "cells": [
  {
   "cell_type": "code",
   "execution_count": 1,
   "metadata": {},
   "outputs": [],
   "source": [
    "import requests\n",
    "from bs4 import BeautifulSoup\n",
    "import pandas as pd\n",
    "import time\n",
    "import json"
   ]
  },
  {
   "cell_type": "code",
   "execution_count": null,
   "metadata": {},
   "outputs": [],
   "source": [
    "base_url = 'https://www.carvana.com/cars/ford-mustang?cvnaid=eyJpc0ZyZWVEZWxpdmVyeSI6ZmFsc2UsIm1vZGVsSWRzIjpbNDhdf2222222222222Q==&email-capture=&page='\n",
    "k = []\n",
    "for page in range (1,27):\n",
    "    url_iterated = base_url + str(page)\n",
    "    #print(url_iterated)\n",
    "    downloaded_html_iterated = requests.get(url_iterated)\n",
    "    soup = BeautifulSoup(downloaded_html_iterated.text)\n",
    "    x = soup.find_all(\"script\",attrs={'type':'application/ld+json'})\n",
    "    x = [i.text for i in x]\n",
    "    #x = x.text\n",
    "    #y= x[1:21]\n",
    "    k.append(x)\n",
    "    #k = x + str(',')\n",
    "    time.sleep(5)\n"
   ]
  },
  {
   "cell_type": "code",
   "execution_count": null,
   "metadata": {},
   "outputs": [],
   "source": [
    "k = sum(k,[])"
   ]
  },
  {
   "cell_type": "code",
   "execution_count": null,
   "metadata": {},
   "outputs": [],
   "source": [
    "u = []\n",
    "for i in range(len(k)):\n",
    "  g = k[i]\n",
    "  myobject2 = json.loads(g)\n",
    "  #json_object = json.dumps(myobject2, indent = 4) \n",
    "  u.append(myobject2)\n",
    "  #print(myobject2)"
   ]
  },
  {
   "cell_type": "code",
   "execution_count": null,
   "metadata": {},
   "outputs": [],
   "source": [
    "df = pd.DataFrame.from_dict(u)"
   ]
  },
  {
   "cell_type": "code",
   "execution_count": null,
   "metadata": {},
   "outputs": [],
   "source": [
    "df.to_csv(\"Mustang_active_listings.csv\")"
   ]
  },
  {
   "attachments": {},
   "cell_type": "markdown",
   "metadata": {},
   "source": [
    "#Data Preprocessing\n",
    "'Run it after extraction has worked'\n"
   ]
  },
  {
   "cell_type": "code",
   "execution_count": 2,
   "metadata": {},
   "outputs": [],
   "source": [
    "df2 = pd.read_csv(\"Mustang_active_listings.csv\")"
   ]
  },
  {
   "cell_type": "code",
   "execution_count": 3,
   "metadata": {},
   "outputs": [
    {
     "data": {
      "text/plain": [
       "0      Used\n",
       "1      Used\n",
       "2      Used\n",
       "3      Used\n",
       "4      Used\n",
       "       ... \n",
       "554    Used\n",
       "555    Used\n",
       "556    Used\n",
       "557     NaN\n",
       "558     NaN\n",
       "Name: itemCondition, Length: 559, dtype: object"
      ]
     },
     "execution_count": 3,
     "metadata": {},
     "output_type": "execute_result"
    }
   ],
   "source": [
    "df2['itemCondition']"
   ]
  },
  {
   "cell_type": "code",
   "execution_count": 4,
   "metadata": {},
   "outputs": [],
   "source": [
    "df2 = df2[df2['@type'] == 'Vehicle'] "
   ]
  },
  {
   "cell_type": "code",
   "execution_count": 5,
   "metadata": {},
   "outputs": [
    {
     "data": {
      "text/plain": [
       "(507, 21)"
      ]
     },
     "execution_count": 5,
     "metadata": {},
     "output_type": "execute_result"
    }
   ],
   "source": [
    "df2.shape"
   ]
  },
  {
   "cell_type": "code",
   "execution_count": 6,
   "metadata": {},
   "outputs": [],
   "source": [
    "df2 = df2.drop(['Unnamed: 0','@context','@type','itemCondition','itemListElement','offers'], axis = 'columns')"
   ]
  },
  {
   "cell_type": "code",
   "execution_count": null,
   "metadata": {},
   "outputs": [],
   "source": [
    "#df2[df2['@type'] == 'Vehicle'] "
   ]
  },
  {
   "cell_type": "code",
   "execution_count": null,
   "metadata": {},
   "outputs": [],
   "source": [
    "#df2 = df2.drop(['itemListElement','offers'], axis = 'columns')"
   ]
  },
  {
   "cell_type": "code",
   "execution_count": 7,
   "metadata": {},
   "outputs": [],
   "source": [
    "df2['Price'] = df2['description'].str[-8:]"
   ]
  },
  {
   "cell_type": "code",
   "execution_count": 8,
   "metadata": {},
   "outputs": [],
   "source": [
    "df2[['delete1','desc_new', 'delete2']] = df2['description'].str.split(pat = 'Used | with', expand = True)\n",
    "df2 = df2.drop(['delete1','delete2'], axis = 'columns')\n",
    "#df2['desc_new_len'] = df2['desc_new'].str.len()\n",
    "#df2['subtract'] = df2['desc_new_len'] - df2['name_len']\n",
    "df2['Trim'] = df2['desc_new']\n",
    "df2['Trim'] = [a.replace(b, '').strip() for a, b in zip(df2['desc_new'], df2['name'])]"
   ]
  },
  {
   "cell_type": "code",
   "execution_count": 10,
   "metadata": {},
   "outputs": [],
   "source": [
    "df2 = df2.drop(['itemReviewed','reviewRating','author','publisher'], axis = 'columns')"
   ]
  },
  {
   "cell_type": "code",
   "execution_count": 11,
   "metadata": {},
   "outputs": [
    {
     "data": {
      "text/plain": [
       "Index(['name', 'modelDate', 'manufacturer', 'model', 'color', 'imageUrl',\n",
       "       'brand', 'description', 'mileageFromOdometer', 'sku',\n",
       "       'vehicleIdentificationNumber', 'Price', 'desc_new', 'Trim'],\n",
       "      dtype='object')"
      ]
     },
     "execution_count": 11,
     "metadata": {},
     "output_type": "execute_result"
    }
   ],
   "source": [
    "df2.columns"
   ]
  },
  {
   "cell_type": "code",
   "execution_count": 9,
   "metadata": {},
   "outputs": [],
   "source": [
    "df2.to_csv(\"Mustang_active_listings_preprocessed.csv\")"
   ]
  }
 ],
 "metadata": {
  "kernelspec": {
   "display_name": "base",
   "language": "python",
   "name": "python3"
  },
  "language_info": {
   "codemirror_mode": {
    "name": "ipython",
    "version": 3
   },
   "file_extension": ".py",
   "mimetype": "text/x-python",
   "name": "python",
   "nbconvert_exporter": "python",
   "pygments_lexer": "ipython3",
   "version": "3.9.13"
  },
  "orig_nbformat": 4
 },
 "nbformat": 4,
 "nbformat_minor": 2
}
